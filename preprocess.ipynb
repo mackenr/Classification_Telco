{
 "cells": [
  {
   "cell_type": "code",
   "execution_count": null,
   "metadata": {},
   "outputs": [],
   "source": [
    "from preprocess import *\n",
    "\n",
    "\n",
    "## in preprocess our we had to split our dataset before we imputed ' ' the monthly charges column with the mean and then cast the column as float.  \n"
   ]
  },
  {
   "cell_type": "markdown",
   "metadata": {},
   "source": []
  },
  {
   "cell_type": "code",
   "execution_count": null,
   "metadata": {},
   "outputs": [],
   "source": [
    "df=get_telco_tidy()"
   ]
  },
  {
   "cell_type": "code",
   "execution_count": null,
   "metadata": {},
   "outputs": [],
   "source": [
    "train_telco,validate_telco,test_telco=telco_split(df,stratify='churn_encoded')\n",
    "## The imputing happens in this step"
   ]
  },
  {
   "cell_type": "code",
   "execution_count": null,
   "metadata": {},
   "outputs": [],
   "source": [
    "df=train_telco"
   ]
  },
  {
   "cell_type": "code",
   "execution_count": null,
   "metadata": {},
   "outputs": [],
   "source": [
    "df.info()"
   ]
  },
  {
   "cell_type": "code",
   "execution_count": null,
   "metadata": {},
   "outputs": [],
   "source": [
    "cols=set(df.columns)\n",
    "numcols={'tenure','monthly_charges','total_charges'}\n",
    "catcols=cols-numcols\n",
    "cat_wo_churn=catcols-{'churn_encoded'}\n",
    "cat_vs_num=list(product(numcols,catcols))\n",
    "no_churn_vs=list(product(numcols,cat_wo_churn))\n",
    "numcols_2_combos=list(combinations(numcols,2))\n",
    "catcols_2_combos=list(combinations(cat_wo_churn,2))##\n",
    " ## These sets are created to run through my statistical and visual tests.      "
   ]
  },
  {
   "cell_type": "code",
   "execution_count": null,
   "metadata": {},
   "outputs": [],
   "source": [
    "df[list(numcols)].hist(lw=0,\n",
    "          bins=25,\n",
    "          layout=(-1, 4),\n",
    "          figsize=(20, 4),\n",
    "          edgecolor='white',\n",
    "         \n",
    "          );"
   ]
  },
  {
   "cell_type": "code",
   "execution_count": null,
   "metadata": {},
   "outputs": [],
   "source": [
    "for i in list(numcols):\n",
    "\n",
    "    sns.histplot(x=df[i],hue=df['churn_encoded'])\n",
    "    plt.show()\n"
   ]
  },
  {
   "cell_type": "code",
   "execution_count": null,
   "metadata": {},
   "outputs": [],
   "source": [
    "num_to_num(df,numcols_2_combos)\n"
   ]
  },
  {
   "cell_type": "code",
   "execution_count": null,
   "metadata": {},
   "outputs": [],
   "source": [
    "for i in numcols_2_combos:\n",
    "    scatter_churn(df,x=i[0],y=i[1])\n",
    "    plt.show()"
   ]
  },
  {
   "cell_type": "code",
   "execution_count": null,
   "metadata": {},
   "outputs": [],
   "source": [
    "figlen=len(list(numcols))+2\n",
    "\n",
    "plt.figure(figsize=(figlen,figlen))\n",
    "plt.title('Pearson Correlation of Features', size = 15)\n",
    "colormap = sns.diverging_palette(10, 220, as_cmap = True)\n",
    "sns.heatmap(df[list(numcols)].corr(),\n",
    "            cmap = colormap,\n",
    "            square = True,\n",
    "            annot = True,\n",
    "            linewidths=0.1,vmax=1.0, linecolor='white',\n",
    "            annot_kws={'fontsize':6 })\n",
    "plt.show()"
   ]
  },
  {
   "cell_type": "code",
   "execution_count": null,
   "metadata": {},
   "outputs": [],
   "source": [
    "chi2=cat_to_cat(df,(catcols_2_combos))"
   ]
  },
  {
   "cell_type": "code",
   "execution_count": null,
   "metadata": {},
   "outputs": [],
   "source": [
    "chi2[chi2['Chi Square p'].astype(float)<chi2['Chi Square p'].astype(float).quantile(.09)].sort_values('Chi Square p')"
   ]
  },
  {
   "cell_type": "code",
   "execution_count": null,
   "metadata": {},
   "outputs": [],
   "source": [
    "manwhit=cat_to_num(df,no_churn_vs)"
   ]
  },
  {
   "cell_type": "code",
   "execution_count": null,
   "metadata": {},
   "outputs": [],
   "source": [
    "cat_wo_chn_house=cat_wo_churn-{'total_in_household'}\n",
    "for i in list(cat_wo_chn_house):  \n",
    "    plt.title(\"House size\")\n",
    "    sns.barplot(x=\"total_in_household\", y=f'{i}', hue='churn_encoded', data=df)\n",
    "    churn_rate = df[f'{i}'][df.churn_encoded==1].mean()\n",
    "    plt.axhline(churn_rate, label=f'{i}churn%')\n",
    "    plt.legend()\n",
    "    plt.show()"
   ]
  },
  {
   "cell_type": "code",
   "execution_count": null,
   "metadata": {},
   "outputs": [],
   "source": [
    "\n",
    "for i in list(cat_wo_chn_house):  \n",
    "    plt.title(\"House size\")\n",
    "    sns.histplot(x=\"total_in_household\", y=f'{i}', hue='churn_encoded', data=df)\n",
    "    churn_rate = df[f'{i}'][df.churn_encoded==1].mean()\n",
    "    plt.axhline(churn_rate, label=f'{i}churn%')\n",
    "    plt.legend()\n",
    "    plt.show()"
   ]
  },
  {
   "cell_type": "markdown",
   "metadata": {},
   "source": []
  }
 ],
 "metadata": {
  "kernelspec": {
   "display_name": "Python 3.9.12 ('base')",
   "language": "python",
   "name": "python3"
  },
  "language_info": {
   "codemirror_mode": {
    "name": "ipython",
    "version": 3
   },
   "file_extension": ".py",
   "mimetype": "text/x-python",
   "name": "python",
   "nbconvert_exporter": "python",
   "pygments_lexer": "ipython3",
   "version": "3.9.12"
  },
  "orig_nbformat": 4,
  "vscode": {
   "interpreter": {
    "hash": "38cca0c38332a56087b24af0bc80247f4fced29cb4f7f437d91dc159adec9c4e"
   }
  }
 },
 "nbformat": 4,
 "nbformat_minor": 2
}
