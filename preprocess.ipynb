{
 "cells": [
  {
   "cell_type": "code",
   "execution_count": null,
   "metadata": {},
   "outputs": [],
   "source": [
    "from preprocess import *\n",
    "\n",
    "## in preprocess our we had to split our dataset before we imputed ' ' the monthly charges column with the mean and then cast the column as float.  \n"
   ]
  },
  {
   "cell_type": "code",
   "execution_count": 23,
   "metadata": {},
   "outputs": [
    {
     "data": {
      "text/html": [
       "<div>\n",
       "<style scoped>\n",
       "    .dataframe tbody tr th:only-of-type {\n",
       "        vertical-align: middle;\n",
       "    }\n",
       "\n",
       "    .dataframe tbody tr th {\n",
       "        vertical-align: top;\n",
       "    }\n",
       "\n",
       "    .dataframe thead th {\n",
       "        text-align: right;\n",
       "    }\n",
       "</style>\n",
       "<table border=\"1\" class=\"dataframe\">\n",
       "  <thead>\n",
       "    <tr style=\"text-align: right;\">\n",
       "      <th></th>\n",
       "      <th>Length</th>\n",
       "      <th>Width</th>\n",
       "    </tr>\n",
       "  </thead>\n",
       "  <tbody>\n",
       "    <tr>\n",
       "      <th>Prepared Data</th>\n",
       "      <td>7043</td>\n",
       "      <td>30</td>\n",
       "    </tr>\n",
       "    <tr>\n",
       "      <th>Train</th>\n",
       "      <td>4225</td>\n",
       "      <td>30</td>\n",
       "    </tr>\n",
       "    <tr>\n",
       "      <th>Validate</th>\n",
       "      <td>1409</td>\n",
       "      <td>30</td>\n",
       "    </tr>\n",
       "    <tr>\n",
       "      <th>Test</th>\n",
       "      <td>1409</td>\n",
       "      <td>30</td>\n",
       "    </tr>\n",
       "  </tbody>\n",
       "</table>\n",
       "</div>"
      ],
      "text/plain": [
       "               Length  Width\n",
       "Prepared Data    7043     30\n",
       "Train            4225     30\n",
       "Validate         1409     30\n",
       "Test             1409     30"
      ]
     },
     "metadata": {},
     "output_type": "display_data"
    },
    {
     "name": "stdout",
     "output_type": "stream",
     "text": [
      "<class 'pandas.core.frame.DataFrame'>\n",
      "Int64Index: 4225 entries, 5911 to 3586\n",
      "Data columns (total 30 columns):\n",
      " #   Column                                 Non-Null Count  Dtype  \n",
      "---  ------                                 --------------  -----  \n",
      " 0   tenure                                 4225 non-null   int64  \n",
      " 1   monthly_charges                        4225 non-null   float64\n",
      " 2   total_charges                          4216 non-null   float64\n",
      " 3   gender_encoded                         4225 non-null   int64  \n",
      " 4   partner_encoded                        4225 non-null   int64  \n",
      " 5   dependents_encoded                     4225 non-null   int64  \n",
      " 6   phone_service_encoded                  4225 non-null   int64  \n",
      " 7   paperless_billing_encoded              4225 non-null   int64  \n",
      " 8   churn_encoded                          4225 non-null   int64  \n",
      " 9   multiple_lines_No_phone_service        4225 non-null   int64  \n",
      " 10  multiple_lines_Yes                     4225 non-null   int64  \n",
      " 11  online_security_No_internet_service    4225 non-null   int64  \n",
      " 12  online_security_Yes                    4225 non-null   int64  \n",
      " 13  online_backup_No_internet_service      4225 non-null   int64  \n",
      " 14  online_backup_Yes                      4225 non-null   int64  \n",
      " 15  device_protection_No_internet_service  4225 non-null   int64  \n",
      " 16  device_protection_Yes                  4225 non-null   int64  \n",
      " 17  tech_support_No_internet_service       4225 non-null   int64  \n",
      " 18  tech_support_Yes                       4225 non-null   int64  \n",
      " 19  streaming_tv_No_internet_service       4225 non-null   int64  \n",
      " 20  streaming_tv_Yes                       4225 non-null   int64  \n",
      " 21  streaming_movies_No_internet_service   4225 non-null   int64  \n",
      " 22  streaming_movies_Yes                   4225 non-null   int64  \n",
      " 23  contract_type_One_year                 4225 non-null   int64  \n",
      " 24  contract_type_Two_year                 4225 non-null   int64  \n",
      " 25  internet_service_type_Fiber_optic      4225 non-null   int64  \n",
      " 26  internet_service_type_None             4225 non-null   int64  \n",
      " 27  payment_type_Credit_card_(automatic)   4225 non-null   int64  \n",
      " 28  payment_type_Electronic_check          4225 non-null   int64  \n",
      " 29  payment_type_Mailed_check              4225 non-null   int64  \n",
      "dtypes: float64(2), int64(28)\n",
      "memory usage: 1023.2 KB\n"
     ]
    }
   ],
   "source": [
    "train_telco,validate_telco,test_telco=final_telco_split()\n",
    "df=train_telco\n",
    "\n",
    "\n",
    "\n",
    "df.info()\n",
    "\n",
    "\n",
    "\n"
   ]
  },
  {
   "cell_type": "code",
   "execution_count": 27,
   "metadata": {},
   "outputs": [],
   "source": [
    "\n",
    "\n",
    "\n",
    "cols=set(df.columns)\n",
    "numcols={'tenure', 'monthly_charges', 'total_charges'}\n",
    "catcols=cols-numcols\n",
    "cat_wo_churn=catcols-{'churn_encoded'}\n",
    "cat_vs_num=set(product(numcols,catcols))\n",
    "no_churn_vs=set(product(numcols,catcols))\n",
    "numcols_2_combos=set(combinations(numcols,2))\n",
    "catcols_2_combos=set(combinations(cat_wo_churn,2))\n",
    "\n"
   ]
  }
 ],
 "metadata": {
  "kernelspec": {
   "display_name": "Python 3.9.12 ('base')",
   "language": "python",
   "name": "python3"
  },
  "language_info": {
   "codemirror_mode": {
    "name": "ipython",
    "version": 3
   },
   "file_extension": ".py",
   "mimetype": "text/x-python",
   "name": "python",
   "nbconvert_exporter": "python",
   "pygments_lexer": "ipython3",
   "version": "3.9.12"
  },
  "orig_nbformat": 4,
  "vscode": {
   "interpreter": {
    "hash": "38cca0c38332a56087b24af0bc80247f4fced29cb4f7f437d91dc159adec9c4e"
   }
  }
 },
 "nbformat": 4,
 "nbformat_minor": 2
}
