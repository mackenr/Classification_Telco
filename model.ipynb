{
 "cells": [
  {
   "cell_type": "markdown",
   "metadata": {},
   "source": [
    "# Model:\n",
    "Here we have a crucial step where we take our tidy data and run some models on it. Selecting the right model is a bit of trial and error. However you can optimize they models themselves by running a grid search on the model's hyperparameters which is what I did here. Doing so minimimized the trial and error on my end and allowed our models to have a significant imporvent overbasseline withou overfitting as we are able to see by comparing them on to the validate set. After experimentation whith each model, we pick the best one to run our test on and obtain predictions. All of our work led up to this step."
   ]
  },
  {
   "cell_type": "code",
   "execution_count": null,
   "metadata": {},
   "outputs": [],
   "source": [
    "\n",
    "from model import *\n",
    "\n",
    "\n",
    "random=4563\n",
    "df=get_telco_tidy()\n",
    "train,validate,test=telco_split_final(df,stratify='churn_encoded')\n",
    "\n",
    "X_train,y_train,X_validate,y_validate,X_test,y_test,train,validate,test=X_y_all(train,validate,test)\n",
    "## The imputing happens in this step\n",
    "df=train\n",
    "# df.info()"
   ]
  },
  {
   "cell_type": "code",
   "execution_count": null,
   "metadata": {},
   "outputs": [],
   "source": [
    "# Establish our baseline prediction \n",
    "baseline = y_train.mode()\n",
    "\n",
    "# Next let establish a baseline accuracy\n",
    "matches_baseline_prediction = y_train == 0\n",
    "\n",
    "baseline_accuracy = matches_baseline_prediction.mean()\n",
    "print(f\"Baseline prediction: {baseline[0]}\")\n",
    "print(f\"Baseline accuracy: {round(baseline_accuracy, 2)}\")\n",
    "\n",
    "\n",
    "\n",
    "\n"
   ]
  },
  {
   "cell_type": "markdown",
   "metadata": {},
   "source": [
    "# Model Fitting\n",
    "\n",
    "---- \n",
    "# RandomForest"
   ]
  },
  {
   "cell_type": "code",
   "execution_count": null,
   "metadata": {},
   "outputs": [],
   "source": [
    "# random_forest(X_train,y_train,X_validate,y_validate,X_test,y_test,random)"
   ]
  },
  {
   "cell_type": "markdown",
   "metadata": {},
   "source": [
    "# KNN\n"
   ]
  },
  {
   "cell_type": "code",
   "execution_count": null,
   "metadata": {},
   "outputs": [],
   "source": [
    "# knn(X_train,y_train,X_validate,y_validate,X_test,y_test)"
   ]
  },
  {
   "cell_type": "markdown",
   "metadata": {},
   "source": [
    "# Decision Tree"
   ]
  },
  {
   "cell_type": "code",
   "execution_count": null,
   "metadata": {},
   "outputs": [],
   "source": [
    "# decision_tree(X_train,y_train,X_validate,y_validate,X_test,y_test,random)"
   ]
  },
  {
   "cell_type": "markdown",
   "metadata": {},
   "source": [
    "# Logistic Regression"
   ]
  },
  {
   "cell_type": "code",
   "execution_count": null,
   "metadata": {},
   "outputs": [],
   "source": [
    "# logistic_reg(X_train,y_train,X_validate,y_validate,X_test,y_test,random)"
   ]
  },
  {
   "cell_type": "code",
   "execution_count": null,
   "metadata": {},
   "outputs": [],
   "source": [
    "\n",
    "classifer_opt_recall,feature_import_recall=best_model_recall(X_train,y_train,X_validate,y_validate,X_test,y_test,random)\n",
    "\n",
    "\n",
    "classifer_opt_recall,feature_import_prec=best_model_precision(X_train,y_train,X_validate,y_validate,X_test,y_test,random)to_dropa=feature_import_recall[feature_import_recall<feature_import_recall.quantile(q=.5,interpolation='linear')].index.to_list()\n",
    "to_dropb=feature_import_prec[feature_import_prec<feature_import_prec.quantile(q=.5,interpolation='linear')].index.to_list()\n",
    "to_dropa=set(to_dropa)\n",
    "to_dropb=set(to_dropb)\n",
    "todrop=to_dropa.intersection(to_dropb)\n",
    "todrop\n"
   ]
  },
  {
   "cell_type": "code",
   "execution_count": null,
   "metadata": {},
   "outputs": [],
   "source": [
    "\n",
    "\n"
   ]
  },
  {
   "cell_type": "code",
   "execution_count": null,
   "metadata": {},
   "outputs": [],
   "source": []
  },
  {
   "cell_type": "code",
   "execution_count": null,
   "metadata": {},
   "outputs": [],
   "source": []
  },
  {
   "cell_type": "code",
   "execution_count": null,
   "metadata": {},
   "outputs": [],
   "source": []
  }
 ],
 "metadata": {
  "kernelspec": {
   "display_name": "Python 3.9.12 ('base')",
   "language": "python",
   "name": "python3"
  },
  "language_info": {
   "codemirror_mode": {
    "name": "ipython",
    "version": 3
   },
   "file_extension": ".py",
   "mimetype": "text/x-python",
   "name": "python",
   "nbconvert_exporter": "python",
   "pygments_lexer": "ipython3",
   "version": "3.9.12"
  },
  "orig_nbformat": 4,
  "vscode": {
   "interpreter": {
    "hash": "38cca0c38332a56087b24af0bc80247f4fced29cb4f7f437d91dc159adec9c4e"
   }
  }
 },
 "nbformat": 4,
 "nbformat_minor": 2
}
