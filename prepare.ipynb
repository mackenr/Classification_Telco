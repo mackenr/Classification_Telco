{
 "cells": [
  {
   "cell_type": "code",
   "execution_count": null,
   "metadata": {},
   "outputs": [],
   "source": [
    "from prepare import *\n",
    "\n",
    "\n",
    "\n"
   ]
  },
  {
   "cell_type": "code",
   "execution_count": null,
   "metadata": {},
   "outputs": [],
   "source": [
    "\n",
    "## The display shows the hightlights from the orgingal data set then shows the cleaned dataset\n",
    "\n",
    "\n",
    "\n",
    "df=get_telco_clean()\n",
    "train_telco,validate_telco,test_telco=telco_split(df)\n",
    "df=train_telco\n",
    "\n",
    "\n",
    "\n",
    "df.info()\n"
   ]
  },
  {
   "cell_type": "code",
   "execution_count": null,
   "metadata": {},
   "outputs": [],
   "source": [
    "\n",
    "cols=set(df.columns)\n",
    "numcols={'tenure','monthly_charges','total_charges'}\n",
    "catcols=cols-numcols\n",
    "cat_wo_churn=catcols-{'churn_encoded'}\n",
    "cat_vs_num=list(product(numcols,catcols))\n",
    "no_churn_vs=list(product(numcols,cat_wo_churn))\n",
    "numcols_2_combos=list(combinations(numcols,2))\n",
    "catcols_2_combos=list(combinations(cat_wo_churn,2))##\n",
    "\n",
    "\n",
    "matching = {s for s in list(cat_wo_churn) if any(xs in s for xs in ['_encoded'])}\n",
    "toencode=cat_wo_churn-matching\n",
    "toencode\n"
   ]
  },
  {
   "cell_type": "code",
   "execution_count": null,
   "metadata": {},
   "outputs": [],
   "source": [
    "\n",
    "df[list(numcols)].hist(lw=0,\n",
    "          bins=25,\n",
    "          layout=(-1, 4),\n",
    "          figsize=(20, 4),\n",
    "          edgecolor='white',\n",
    "         \n",
    "          );\n"
   ]
  },
  {
   "cell_type": "code",
   "execution_count": null,
   "metadata": {},
   "outputs": [],
   "source": [
    "\n",
    "\n",
    "\n",
    "for i in list(numcols):\n",
    "\n",
    "    sns.histplot(x=df[i],hue=df['churn_encoded'])\n",
    "    plt.show()\n",
    "\n",
    "\n",
    "\n"
   ]
  },
  {
   "cell_type": "code",
   "execution_count": null,
   "metadata": {},
   "outputs": [],
   "source": [
    "for i in numcols_2_combos:\n",
    "    scatter_churn(df,x=i[0],y=i[1])\n",
    "    plt.show()\n",
    "\n",
    "\n",
    "\n"
   ]
  },
  {
   "cell_type": "code",
   "execution_count": null,
   "metadata": {},
   "outputs": [],
   "source": []
  },
  {
   "cell_type": "code",
   "execution_count": null,
   "metadata": {},
   "outputs": [],
   "source": [
    "\n",
    "for i in (catcols_2_combos):\n",
    "    rel = sns.catplot(x=i[0], y=i[1], data=df, kind='bar',hue=\"churn_encoded\")\n",
    "    rel.fig.suptitle(f'{i[0]}t{i[1]}') # One way to title a relplot\n",
    "    plt.tight_layout()\n",
    "       \n",
    "## need to do catplot to avoid warning"
   ]
  },
  {
   "cell_type": "code",
   "execution_count": null,
   "metadata": {},
   "outputs": [],
   "source": [
    "\n",
    "for i in (numcols_2_combos):\n",
    "    rel = sns.relplot(x=i[0], y=i[1], data=df, col='total_in_household',hue=\"churn_encoded\")\n",
    "    rel.fig.suptitle(f'{i[0]}to {i[1]}, cols by total_in_household') # One way to title a relplot\n",
    "    plt.tight_layout()\n",
    "       \n"
   ]
  },
  {
   "cell_type": "code",
   "execution_count": null,
   "metadata": {},
   "outputs": [],
   "source": [
    "##breaks after two need to research\n",
    "\n",
    "cat_wo_chn_house=cat_wo_churn-{'total_in_household'}\n",
    "\n",
    "\n",
    "\n",
    "for i in list(cat_wo_chn_house):  \n",
    "    plt.title(\"House size\")\n",
    "    sns.barplot(x=\"total_in_household\", y=f'{i}', hue='churn_encoded', data=df)\n",
    "    churn_rate = df[f'{i}'].mean()\n",
    "    plt.axhline(churn_rate, label='Churn rate')\n",
    "    plt.legend()\n",
    "    plt.show()"
   ]
  }
 ],
 "metadata": {
  "kernelspec": {
   "display_name": "Python 3.9.12 ('base')",
   "language": "python",
   "name": "python3"
  },
  "language_info": {
   "codemirror_mode": {
    "name": "ipython",
    "version": 3
   },
   "file_extension": ".py",
   "mimetype": "text/x-python",
   "name": "python",
   "nbconvert_exporter": "python",
   "pygments_lexer": "ipython3",
   "version": "3.9.12"
  },
  "orig_nbformat": 4,
  "vscode": {
   "interpreter": {
    "hash": "38cca0c38332a56087b24af0bc80247f4fced29cb4f7f437d91dc159adec9c4e"
   }
  }
 },
 "nbformat": 4,
 "nbformat_minor": 2
}
