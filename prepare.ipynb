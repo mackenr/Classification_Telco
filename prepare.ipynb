{
 "cells": [
  {
   "cell_type": "code",
   "execution_count": null,
   "metadata": {},
   "outputs": [],
   "source": [
    "from prepare import *"
   ]
  },
  {
   "cell_type": "markdown",
   "metadata": {},
   "source": [
    "# Prepare:\n",
    "\n",
    "This step is substantial. Here clean the data. We split it to avoid biasing our analysis. From here we make inferences on the data.  We do slightly expand on these in the next step after we have tidy data. Yet most of the heavy lifting is done at this stage as we see visualizations and conduct statistical testing in this step. Our prepare.py file cleans the data and imputes the mean after our data is split. This was imperative to do after the split to mitigate data poisoning. \n"
   ]
  },
  {
   "cell_type": "code",
   "execution_count": null,
   "metadata": {},
   "outputs": [],
   "source": [
    "\n",
    "## The display shows the hightlights from the orgingal data set then shows the cleaned dataset\n",
    "df=get_telco_clean()\n",
    "train_telco,validate_telco,test_telco=telco_split(df)\n",
    "df=train_telco\n",
    "df.info()"
   ]
  },
  {
   "cell_type": "code",
   "execution_count": null,
   "metadata": {},
   "outputs": [],
   "source": [
    "cols=set(df.columns)\n",
    "numcols={'tenure','monthly_charges','total_charges'}\n",
    "catcols=cols-numcols\n",
    "cat_wo_churn=catcols-{'churn_encoded'}\n",
    "cat_vs_num=list(product(numcols,catcols))\n",
    "no_churn_vs=list(product(numcols,cat_wo_churn))\n",
    "numcols_2_combos=list(combinations(numcols,2))\n",
    "catcols_2_combos=list(combinations(cat_wo_churn,2))##\n",
    "\n",
    "\n",
    "matching = {s for s in list(cat_wo_churn) if any(xs in s for xs in ['_encoded'])}\n",
    "toencode=cat_wo_churn-matching\n",
    "toencode\n"
   ]
  },
  {
   "cell_type": "code",
   "execution_count": null,
   "metadata": {},
   "outputs": [],
   "source": [
    "df[list(numcols)].hist(lw=0,\n",
    "          bins=25,\n",
    "          layout=(-1, 4),\n",
    "          figsize=(20, 4),\n",
    "          edgecolor='white',\n",
    "         \n",
    "          );"
   ]
  },
  {
   "cell_type": "code",
   "execution_count": null,
   "metadata": {},
   "outputs": [],
   "source": [
    "for i in list(numcols):\n",
    "\n",
    "    sns.histplot(x=df[i],hue=df['churn_encoded'])\n",
    "    plt.show()"
   ]
  },
  {
   "cell_type": "code",
   "execution_count": null,
   "metadata": {},
   "outputs": [],
   "source": [
    "for i in numcols_2_combos:\n",
    "    scatter_churn(df,x=i[0],y=i[1])\n",
    "    plt.show()\n",
    "\n",
    "\n",
    "\n"
   ]
  },
  {
   "cell_type": "code",
   "execution_count": null,
   "metadata": {},
   "outputs": [],
   "source": [
    "for i in (numcols_2_combos):\n",
    "    rel = sns.relplot(x=i[0], y=i[1], data=df, col='total_in_household',hue=\"churn_encoded\")\n",
    "    rel.fig.suptitle(f'{i[0]} to {i[1]}, cols by total_in_household') # One way to title a relplot\n",
    "    plt.tight_layout()    \n",
    "\n",
    "\n"
   ]
  }
 ],
 "metadata": {
  "kernelspec": {
   "display_name": "Python 3.9.12 ('base')",
   "language": "python",
   "name": "python3"
  },
  "language_info": {
   "codemirror_mode": {
    "name": "ipython",
    "version": 3
   },
   "file_extension": ".py",
   "mimetype": "text/x-python",
   "name": "python",
   "nbconvert_exporter": "python",
   "pygments_lexer": "ipython3",
   "version": "3.9.12"
  },
  "orig_nbformat": 4,
  "vscode": {
   "interpreter": {
    "hash": "38cca0c38332a56087b24af0bc80247f4fced29cb4f7f437d91dc159adec9c4e"
   }
  }
 },
 "nbformat": 4,
 "nbformat_minor": 2
}
